{
  "nbformat": 4,
  "nbformat_minor": 0,
  "metadata": {
    "colab": {
      "provenance": [],
      "collapsed_sections": [],
      "include_colab_link": true
    },
    "kernelspec": {
      "name": "python3",
      "display_name": "Python 3"
    },
    "language_info": {
      "name": "python"
    }
  },
  "cells": [
    {
      "cell_type": "markdown",
      "metadata": {
        "id": "view-in-github",
        "colab_type": "text"
      },
      "source": [
        "<a href=\"https://colab.research.google.com/github/henderick17/henderick17/blob/main/%E4%B8%8A%E8%AA%B2%E5%85%A7%E5%AE%B9.ipynb\" target=\"_parent\"><img src=\"https://colab.research.google.com/assets/colab-badge.svg\" alt=\"Open In Colab\"/></a>"
      ]
    },
    {
      "cell_type": "markdown",
      "source": [
        "從鍵盤輸入三個整數，螢幕輸出最大的數字"
      ],
      "metadata": {
        "id": "4OxP0LknCO9v"
      }
    },
    {
      "cell_type": "markdown",
      "source": [
        "elif 是else if 的意思\n"
      ],
      "metadata": {
        "id": "T0K4_mlXBmYH"
      }
    },
    {
      "cell_type": "code",
      "execution_count": null,
      "metadata": {
        "colab": {
          "base_uri": "https://localhost:8080/"
        },
        "id": "msSXBXk0-HBY",
        "outputId": "efb8e6d7-67d4-4e33-cdb4-2c554f755b54"
      },
      "outputs": [
        {
          "name": "stdout",
          "output_type": "stream",
          "text": [
            "1st integar:1\n"
          ]
        }
      ],
      "source": [
        "def compare(a,b,c):\n",
        "    if a>b and a>c:\n",
        "        return a\n",
        "    elif  b>a and b>c:\n",
        "        return b\n",
        "    else:\n",
        "        return c\n",
        "        \n",
        "\n",
        "a=int(input('1st integar:'))\n",
        "b=int(input('2nd integar:'))\n",
        "c=int(input('3rd integar:'))\n",
        "print('the largest number:',compare(a,b,c))\n"
      ]
    },
    {
      "cell_type": "markdown",
      "source": [
        "**10個數字加總**"
      ],
      "metadata": {
        "id": "n8FHfzuDETOv"
      }
    },
    {
      "cell_type": "code",
      "source": [
        "sum=0\n",
        "for i in range(1,11,1):\n",
        "    x=int(input())\n",
        "    sum=sum+x\n",
        "print('總和=',sum)\n",
        "\n"
      ],
      "metadata": {
        "id": "eAoac7BLB32v"
      },
      "execution_count": null,
      "outputs": []
    },
    {
      "cell_type": "markdown",
      "source": [
        "i 及 j **相乘**"
      ],
      "metadata": {
        "id": "8rvzWTRKD_A2"
      }
    },
    {
      "cell_type": "code",
      "source": [
        "for i in range(1,4,1):\n",
        "    for j in range(1,4,1):\n",
        "        print(i,'*',j,'=',i*j)\n",
        "        "
      ],
      "metadata": {
        "id": "hbNccisXC-dN",
        "colab": {
          "base_uri": "https://localhost:8080/"
        },
        "outputId": "77221d2c-a812-4f57-b311-d62a94044b88"
      },
      "execution_count": null,
      "outputs": [
        {
          "output_type": "stream",
          "name": "stdout",
          "text": [
            "1 * 1 = 1\n",
            "1 * 2 = 2\n",
            "1 * 3 = 3\n",
            "2 * 1 = 2\n",
            "2 * 2 = 4\n",
            "2 * 3 = 6\n",
            "3 * 1 = 3\n",
            "3 * 2 = 6\n",
            "3 * 3 = 9\n"
          ]
        }
      ]
    },
    {
      "cell_type": "markdown",
      "source": [
        "**判斷是否為質數**"
      ],
      "metadata": {
        "id": "WB4fU9aTFSj1"
      }
    },
    {
      "cell_type": "code",
      "source": [
        "p=int(input('an odd integar'))\n",
        "\n",
        "for i in range(2,p,1): #輸入的這個數字p從2到p-1\n",
        "  if (p % i)==0: #如果輸入的這個數字p被2到p-1中任何一個數字整除\n",
        "    print(p,'is not prime')#則印出這不是質數\n",
        "    break #break的意思是如果成功執行則中斷程式碼 \n",
        "  if i==p-1: #如果輸入的這個數字減一後等於 2到p-1的其中一個數\n",
        "    print(p,'is prime')#則印出這是質數"
      ],
      "metadata": {
        "colab": {
          "base_uri": "https://localhost:8080/"
        },
        "id": "b9NUTOCpFOfw",
        "outputId": "c752ac7f-2f5d-4f81-e0a7-24d2a806c5c1"
      },
      "execution_count": null,
      "outputs": [
        {
          "output_type": "stream",
          "name": "stdout",
          "text": [
            "an odd integar7\n",
            "7 is prime\n"
          ]
        }
      ]
    },
    {
      "cell_type": "markdown",
      "source": [
        "**尋找100以內的質數(不包含2)**"
      ],
      "metadata": {
        "id": "k3swIDJr6FYV"
      }
    },
    {
      "cell_type": "code",
      "source": [
        "end = 100\n",
        "\n",
        "for val in range(2,end+1,1):\n",
        "    for n in range(2,val,1):\n",
        "        if (val % n) == 0:\n",
        "            break\n",
        "        if n==val-1:\n",
        "            print(val)"
      ],
      "metadata": {
        "colab": {
          "base_uri": "https://localhost:8080/"
        },
        "id": "lkhihB4Q2jm_",
        "outputId": "f0bedd90-b235-4cc1-8452-15dd772162bf"
      },
      "execution_count": null,
      "outputs": [
        {
          "output_type": "stream",
          "name": "stdout",
          "text": [
            "3\n",
            "5\n",
            "7\n",
            "11\n",
            "13\n",
            "17\n",
            "19\n",
            "23\n",
            "29\n",
            "31\n",
            "37\n",
            "41\n",
            "43\n",
            "47\n",
            "53\n",
            "59\n",
            "61\n",
            "67\n",
            "71\n",
            "73\n",
            "79\n",
            "83\n",
            "89\n",
            "97\n"
          ]
        }
      ]
    },
    {
      "cell_type": "markdown",
      "source": [
        "**將1乘以1乘到9乘以9**"
      ],
      "metadata": {
        "id": "K7Grz_7ZsWyk"
      }
    },
    {
      "cell_type": "code",
      "source": [
        "i=1\n",
        "while i < 10:\n",
        "    j=1\n",
        "    while j <10:\n",
        "        print(i,'*',j,'=',i*j)\n",
        "        j=j+1\n",
        "        i=i+1\n"
      ],
      "metadata": {
        "id": "v_dis-ai6DOW",
        "colab": {
          "base_uri": "https://localhost:8080/"
        },
        "outputId": "490ee9f2-31b7-408e-a84d-cdfcc35d43eb"
      },
      "execution_count": null,
      "outputs": [
        {
          "output_type": "stream",
          "name": "stdout",
          "text": [
            "1 * 1 = 1\n",
            "2 * 2 = 4\n",
            "3 * 3 = 9\n",
            "4 * 4 = 16\n",
            "5 * 5 = 25\n",
            "6 * 6 = 36\n",
            "7 * 7 = 49\n",
            "8 * 8 = 64\n",
            "9 * 9 = 81\n"
          ]
        }
      ]
    },
    {
      "cell_type": "markdown",
      "source": [
        "**輸入一個大於三的奇數並判斷是否為質數**"
      ],
      "metadata": {
        "id": "n4rcnehor4We"
      }
    },
    {
      "cell_type": "code",
      "source": [
        "p= int(input('Please enter an odd number(>3):'))\n",
        "i=3\n",
        "\n",
        "while i<p:\n",
        "    if p%i==0:\n",
        "        print(p,'is not prime')\n",
        "        break\n",
        "    i=i+2\n",
        "if i==p:\n",
        "    print(p,'is prime')\n"
      ],
      "metadata": {
        "id": "lGZ_9vR28seF",
        "colab": {
          "base_uri": "https://localhost:8080/"
        },
        "outputId": "191feba8-d744-4de7-a8c2-45bfc18e7a02"
      },
      "execution_count": null,
      "outputs": [
        {
          "output_type": "stream",
          "name": "stdout",
          "text": [
            "Please enter an odd number(>3):9\n",
            "9 is not prime\n"
          ]
        }
      ]
    },
    {
      "cell_type": "markdown",
      "source": [
        "**從鍵盤輸入一個大於100的質數，找出與輸入質數最接近的另兩個質數。**"
      ],
      "metadata": {
        "id": "_RN4fEu5NS7D"
      }
    },
    {
      "cell_type": "code",
      "source": [
        "p = int(input('Please enter a prime number(>100):'))\n",
        "count=0\n",
        "p1=p\n",
        "p2=p\n",
        "\n",
        "def isprime(x):\n",
        "\n",
        "    for i in range(3,x,2):\n",
        "\n",
        "        if (x % i) == 0:\n",
        "            return False\n",
        "        return True\n",
        "while count<2: # 如果要找10個\n",
        "    p1=p1+2\n",
        "    if (isprime(p1)):\n",
        "        print(p1)\n",
        "        count=count+1\n",
        "        \n",
        "    p2=p2-2\n",
        "    if (isprime(p2)):\n",
        "        print(p2)\n",
        "        count=count+1"
      ],
      "metadata": {
        "colab": {
          "base_uri": "https://localhost:8080/"
        },
        "id": "A_mmPNm9NSdy",
        "outputId": "4e776ed6-17ee-41a7-88d8-4f5d1d2175db"
      },
      "execution_count": null,
      "outputs": [
        {
          "output_type": "stream",
          "name": "stdout",
          "text": [
            "Please enter a prime number(>100):107\n",
            "109\n",
            "103\n"
          ]
        }
      ]
    },
    {
      "cell_type": "markdown",
      "source": [
        "**從鍵盤輸入一個大於100的整數，螢幕輸出大於且最接近該整數的三個質數。**"
      ],
      "metadata": {
        "id": "PMRNnuNkrR0p"
      }
    },
    {
      "cell_type": "code",
      "source": [
        "p = int(input('Please enter a prime number(>100):'))\n",
        "count=0\n",
        "p1=p\n",
        "\n",
        "\n",
        "def isprime(x):\n",
        "\n",
        "    for i in range(3,x,1):\n",
        "\n",
        "        if (x % i) == 0:\n",
        "            return False\n",
        "    return True\n",
        "while count!= 3: \n",
        "    p1=p1+1\n",
        "    if (isprime(p1)):\n",
        "        print(p1)\n",
        "        count=count+1"
      ],
      "metadata": {
        "id": "rt83J-zGEAe1"
      },
      "execution_count": null,
      "outputs": []
    },
    {
      "cell_type": "markdown",
      "source": [
        "**由鍵盤逐一輸入整數，至少會輸入兩個，直至輸入的整數與前一個輸入的整數之和為3的倍數，才停止輸入。由螢幕輸出這些輸入整數的總和與平均值**"
      ],
      "metadata": {
        "id": "v09AeJGRSEOj"
      }
    },
    {
      "cell_type": "code",
      "source": [
        "total=0\n",
        "count=0\n",
        "i = int(input('Please enter an integer:'))\n",
        "j = int(input('Please enter an integer:'))\n",
        "total=i+j\n",
        "count=count+2\n",
        "\n",
        "while (i+j)%3 != 0:\n",
        "    i=j #把現在輸入的數變成前一個數\n",
        "    j = int(input('Please enter an integer:'))\n",
        "    total=total+j\n",
        "    count=count+1\n",
        "\n",
        "print('Total = ',total,'Average = ',total/count)"
      ],
      "metadata": {
        "colab": {
          "base_uri": "https://localhost:8080/"
        },
        "id": "lrRGukcJ9JE0",
        "outputId": "6e5308ec-3494-47a5-e8f6-fefaf99fcc8e"
      },
      "execution_count": null,
      "outputs": [
        {
          "output_type": "stream",
          "name": "stdout",
          "text": [
            "Please enter an integer:1\n",
            "Please enter an integer:1\n",
            "Please enter an integer:1\n",
            "Please enter an integer:2\n",
            "Total =  5 Average =  1.25\n"
          ]
        }
      ]
    },
    {
      "cell_type": "markdown",
      "source": [
        "**由鍵盤逐一輸入整數，至少會輸入兩個，直至輸入的整數與前一個輸入的整數之和為3的倍數，才停止輸入。由螢幕輸出這些輸入整數的總和與平均值。使用while loop**"
      ],
      "metadata": {
        "id": "dAyBXvqWOizS"
      }
    },
    {
      "cell_type": "code",
      "source": [
        "f = open(\"1.txt\",'r')\n",
        "x1=int(f.readline())\n",
        "x2=int(f.readline())\n",
        "total=x1+x2\n",
        "count=2\n",
        "\n",
        "while ((x1+x2)%3!=0 and True): #輸入的前後兩個數字和為3的倍數\n",
        "    x1=x2 #把輸入的數當作第二個變數\n",
        "    x2=int(f.readline())\n",
        "    count=count+1 \n",
        "    total=total+x2 #算'上次記住的數'跟'這次輸入的數'的總和\n",
        "print('讀入所有整數和: ',total,'讀入所有整數之平均數',total/count)\n",
        "f.close()\n"
      ],
      "metadata": {
        "id": "51l8U9b5JVcf"
      },
      "execution_count": null,
      "outputs": []
    },
    {
      "cell_type": "markdown",
      "source": [
        "**讀取1.txt由txt逐一輸入整數，至少會輸入兩個，直至輸入的整數與前一個輸入的整數之和為3的倍數，才停止輸入。由螢幕輸出這些輸入整數的總和與平均值。使用for loop及if語法**"
      ],
      "metadata": {
        "id": "J2xl5E6Hxrkg"
      }
    },
    {
      "cell_type": "code",
      "source": [
        "f = open('1.txt','r')\n",
        "x1=int(f.readline())\n",
        "total=x1\n",
        "count=1\n",
        "for x2 in f:\n",
        "  total=total+int(x2)\n",
        "  count=count+1\n",
        "  if (x1+int(x2))%3==0:\n",
        "      print('輸入所有整數和',total,'輸入所有整數平均',total/count)\n",
        "  x1=int(x2)\n",
        "f.close\n"
      ],
      "metadata": {
        "id": "d7CVsdJOBU-m"
      },
      "execution_count": null,
      "outputs": []
    },
    {
      "cell_type": "code",
      "source": [
        "with open(\"1.txt\",'r') as file:\n",
        "    List = [int(x) for x in file if len(x.strip()) > 0]\n",
        "    print('最小值為',min(List),'最大值為:', max(List))"
      ],
      "metadata": {
        "id": "NoVfSPFFJ-t3"
      },
      "execution_count": null,
      "outputs": []
    },
    {
      "cell_type": "markdown",
      "source": [
        "**讀取\"1.txt\"，檔案內都是唯一的整數。螢幕輸出最大值、與最小值**"
      ],
      "metadata": {
        "id": "-GfK4yNipJ9u"
      }
    },
    {
      "cell_type": "code",
      "source": [
        "f = open('1.txt','r')\n",
        "x=[] #將文字檔轉成list並宣告x為一個空的list\n",
        "for i in f : #對於所有在f中的數字，對於每個i都儲存在x這個list中，\n",
        "    x.append(int(i)) #每個數字都加在x這個list中\n",
        "print(x) #印出x這個list\n",
        "print('最小數',min(x))\n",
        "print('最大數',max(x))\n",
        "f.close()\n"
      ],
      "metadata": {
        "id": "U6DWT4V6FL_s"
      },
      "execution_count": null,
      "outputs": []
    },
    {
      "cell_type": "markdown",
      "source": [],
      "metadata": {
        "id": "Bya0wnA_Lx-X"
      }
    },
    {
      "cell_type": "code",
      "source": [
        "d=[]\n",
        "f= open(\"1.txt\",\"r\")\n",
        "for x in f :\n",
        "  d.append(int(x))\n",
        "print(d[4])\n",
        "for i in range (len(d)-1): #要記得加\n",
        "  if (d[i]+d[i+1])%3==0:\n",
        "    print(d[i],d[i+1])\n",
        "f.close\n"
      ],
      "metadata": {
        "id": "T7relpKZLyKm"
      },
      "execution_count": null,
      "outputs": []
    },
    {
      "cell_type": "code",
      "source": [
        "c=[]\n",
        "with open('1.txt','r')as f:\n",
        "  line "
      ],
      "metadata": {
        "id": "Eq7CCxbWMJqG"
      },
      "execution_count": null,
      "outputs": []
    },
    {
      "cell_type": "code",
      "source": [
        "d=[]\n",
        "f=open('1.txt','r')\n",
        "for x in f:\n",
        "  d.append(int(x))\n",
        "print(d)\n",
        "d.reverse()\n",
        "print(d)\n",
        "d.sort()\n",
        "print(d)\n",
        "\n"
      ],
      "metadata": {
        "id": "5lNj4-vbTuI0"
      },
      "execution_count": null,
      "outputs": []
    },
    {
      "cell_type": "markdown",
      "source": [
        "**二維串列**"
      ],
      "metadata": {
        "id": "iNq5fcIfQxHs"
      }
    },
    {
      "cell_type": "code",
      "source": [
        "rows = int(input('學生數:'))\n",
        "p= []\n",
        "\n",
        "for i in range (rows):\n",
        "  p.append([]) #second dimention\n",
        "\n",
        "  p[i].append(input('學號:'))\n",
        "  p[i].append(input('上機成績:'))\n",
        "  p[i].append(input('筆試成績:'))\n",
        "\n",
        "print(p)"
      ],
      "metadata": {
        "id": "_Gr1zbgLQwVk"
      },
      "execution_count": null,
      "outputs": []
    },
    {
      "cell_type": "markdown",
      "source": [
        "****"
      ],
      "metadata": {
        "id": "rH3ydZYWeJuC"
      }
    },
    {
      "cell_type": "code",
      "source": [
        "d=[]\n",
        "f= open(\"1.txt\",\"r\")\n",
        "for x in f :\n",
        "  d.append(int(x))\n",
        "  "
      ],
      "metadata": {
        "id": "_Iu_JmkdeDoi"
      },
      "execution_count": null,
      "outputs": []
    },
    {
      "cell_type": "markdown",
      "source": [
        "**期中考Q1\n",
        "讀入檔案1.txt,每列有唯一之正整數,螢幕輸出有哪兩個相鄰整數和是3的倍數**"
      ],
      "metadata": {
        "id": "UW3-6_mK5Doi"
      }
    },
    {
      "cell_type": "code",
      "source": [
        "\n",
        "f= open(\"1.txt\", \"r\")\n",
        "x1=int(f.readline())\n",
        "for x2 in f:\n",
        "    if (x1+int(x2))%3==0:\n",
        "       print(x1,x2) \n",
        "    x1=int(x2)    \n",
        "f.close"
      ],
      "metadata": {
        "id": "7XCPKAZM5L0S"
      },
      "execution_count": null,
      "outputs": []
    },
    {
      "cell_type": "markdown",
      "source": [
        "**期中考Q2 讀入檔案2.txt,每列有唯一之正整數,介於3至200之間。若有質數,螢輸出這些質數的總和\n",
        "若無質數,則輸出0**"
      ],
      "metadata": {
        "id": "1WwUNbsP5aX_"
      }
    },
    {
      "cell_type": "code",
      "source": [
        "def isprime(x):\n",
        "    for i in range(2,x,1):\n",
        "        if (x % i) == 0:\n",
        "            return False\n",
        "    return True\n",
        "total=0\n",
        "f= open(\"2.txt\", \"r\")\n",
        "for x in f:\n",
        "    if isprime(int(x)):\n",
        "        total=total+int(x)\n",
        "print(total)\n",
        "f.close()"
      ],
      "metadata": {
        "id": "tnDIhRyf5k2D"
      },
      "execution_count": null,
      "outputs": []
    },
    {
      "cell_type": "markdown",
      "source": [
        "**期中考Q3 鍵盤輸入一個大於2的正整數x,螢幕輸出大於x的第三小質數**"
      ],
      "metadata": {
        "id": "2WWqIUmb53nB"
      }
    },
    {
      "cell_type": "code",
      "source": [
        "def isprime(x):\n",
        "    for i in range(2,x,1):\n",
        "        if (x % i) == 0:\n",
        "            return False\n",
        "    return True\n",
        "\n",
        "counter=0\n",
        "p=int(input('an integer:'))\n",
        "while counter < 3:\n",
        "    p=p+1\n",
        "    if isprime(p):\n",
        "        counter=counter+1\n",
        "print(p)\n"
      ],
      "metadata": {
        "id": "JCJp5TUs58Fx"
      },
      "execution_count": null,
      "outputs": []
    }
  ]
}